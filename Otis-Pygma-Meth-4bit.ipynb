{
  "nbformat": 4,
  "nbformat_minor": 0,
  "metadata": {
    "colab": {
      "provenance": [],
      "gpuType": "T4",
      "include_colab_link": true
    },
    "kernelspec": {
      "name": "python3",
      "display_name": "Python 3"
    },
    "language_info": {
      "name": "python"
    },
    "accelerator": "GPU",
    "gpuClass": "standard"
  },
  "cells": [
    {
      "cell_type": "markdown",
      "metadata": {
        "id": "view-in-github",
        "colab_type": "text"
      },
      "source": [
        "<a href=\"https://colab.research.google.com/github/OtisAlejandro/LLMColabs/blob/main/Otis-Pygma-Meth-4bit.ipynb\" target=\"_parent\"><img src=\"https://colab.research.google.com/assets/colab-badge.svg\" alt=\"Open In Colab\"/></a>"
      ]
    },
    {
      "cell_type": "markdown",
      "source": [
        "# Welcome to Otis' 4bit Kobold Colab!\n",
        "Mady by OshieteKudasai, Peepy, and Otis\n",
        "Hello everyone and thank you for choosing my colab. If you want to run 13B models but you do not have a good GPU or TPUs aren't working, you can run any compatible 13B model here! This notebook uses Occ4m's 4Bit Kobold Fork which can be foud [here.](https://github.com/0cc4m/KoboldAI)\n",
        "\n",
        "If you'd like more information about Kobold, you can read their Github's readme file here: https://github.com/KoboldAI/KoboldAI-Client/blob/main/readme.md\n",
        "\n",
        "TPUs are currently unavailable, but I'll be making a TPU edition as well for the larger models.\n",
        "\n",
        "If you have any questions or concerns, feel free to DM me @Otis#9664 or ping me in the [PygmalionAI Discord.](discord.gg/pygmalionai)\n",
        "\n",
        "**A special thanks to Peepy and OshieteKudasai for their contributions to this notebook! <3**\n",
        "\n",
        "---\n",
        "## How to load the KoboldAI UI\n",
        "1. Although I designed the colab for desktop users, it should not have a problem on mobile as long as you are using desktop mode. If you're on mobile, tap the play button on the first cell so your Colab doesn't get shut down for inactivity.\n",
        "2. Next, run the second cell to clone the GitHub repository. This will take ~4 minutes to complete, and the cell will stop running automatically.\n",
        "3. Run the 3rd cell to download the model directly from the repo. For now, only Koala is available, however I plan to implement a model selector.\n",
        "4. Run KoboldAI, go to the new_ui. Click interface, and enable Experimental UI. Then, go back to the first page and click 'Load Model'. Select 'load from directory' and select the model you wish to run. After that's done, select 4bit, not 8bit, and wait for it to load! Plug your KoboldAI cloudflare link into your preferred UI, and Chat with 2048 context size, and 12 t/s!\n",
        "4. If you get a message saying no accelerator is available/you ran out of runtime, you are gonna need to wait 24 hours for your cooldown to reset, or try again.\n",
        "5. After everything has loaded, you will get a link to the KoboldAI UI that you can also copy into TavernAI's API and use there. If you get a warning for the localtunnel link, just acknowledge it and proceed to the page. If you get a 1033 error with the Cloudflare link, wait 1 minute and refresh the error page.\n",
        "\n",
        "---\n",
        "\n",
        "Make sure to keep this page open while you are using KoboldAI, and check back regularly to see if you got a Captcha. Failure to complete the captcha's in time can result in termination of your session or a lower priority towards the TPUs.\n",
        "\n",
        "Firefox users need to disable the enhanced tracking protection or use a different browser in order to be able to use Google Colab without errors (This is not something we can do anything about, the cookie blocker breaks the Google Drive integration because it uses different domains).\n",
        "\n",
        "This colab was written completely by hand by Peepy, OshieteKudasai, and Otis. Any copies, or reproductions of this notebook **must** include credit."
      ],
      "metadata": {
        "id": "re1s6eSjDG3A"
      }
    },
    {
      "cell_type": "code",
      "source": [
        "#@title <-- Tap this if you play on Mobile { display-mode: \"form\" }\n",
        "%%html\n",
        "<b>Press play on the music player to keep the tab alive, then start KoboldAI below (Uses only 13MB of data)</b><br/>\n",
        "<audio src=\"https://raw.githubusercontent.com/KoboldAI/KoboldAI-Client/main/colab/silence.m4a\" controls>"
      ],
      "metadata": {
        "id": "MQvp5Ao1FL01"
      },
      "execution_count": null,
      "outputs": []
    },
    {
      "cell_type": "code",
      "source": [
        "#@title Clone the 4bit KoboldAI Repository and Download LLM (Will take ~7 Minutes to Load)\n",
        "#@markdown Select from a list of available 4bit models.\n",
        "import base64\n",
        "Model = \"Pyg 7B\" #@param [\"Pyg 7B\", \"Meth 7B\"] {allow-input: true}\n",
        "!apt update\n",
        "!git lfs install\n",
        "!apt install aria2\n",
        "!pip install safetensors\n",
        "\n",
        "# Clone the repository\n",
        "!git clone https://github.com/0cc4m/KoboldAI -b latestgptq --recurse-submodules\n",
        "#Enter Kobold Dir and run IR with cuda parameter.\n",
        "!cd KoboldAI && ./install_requirements.sh cuda\n",
        "\n",
        "pyg=base64.b64decode(\"aHR0cHM6Ly9odWdnaW5nZmFjZS5jby9UZWhWZW5vbS9QeWdtYWxpb24tN2ItNGJpdC1HUFRRLVNhZmV0ZW5zb3Jz\").decode('utf-8')\n",
        "pyg_path =base64.b64decode(\"UHlnbWFsaW9uLTdiLTRiaXQtR1BUUS1TYWZldGVuc29ycw==\").decode('utf-8')\n",
        "meth=base64.b64decode(\"aHR0cHM6Ly9odWdnaW5nZmFjZS5jby9UZWhWZW5vbS9NZXRoYXJtZS03Yi00Yml0LUdQVFEtU2FmZXRlbnNvcnM=\").decode('utf-8')\n",
        "meth_path =base64.b64decode(\"TWV0aGFybWUtN2ItNGJpdC1HUFRRLVNhZmV0ZW5zb3Jz\").decode('utf-8')\n",
        "\n",
        "if Model == \"Pyg 7B\":\n",
        "  !cd KoboldAI/models && git clone {pyg} && cd {pyg_path} && mv *.safetensors 4bit.safetensors\n",
        "elif Model == \"Meth 7B\":\n",
        "  !cd KoboldAI/models && git clone {meth} && cd {meth_path} && mv *.safetensors 4bit.safetensors\n"
      ],
      "metadata": {
        "id": "vN1jp0sKEpF5"
      },
      "execution_count": null,
      "outputs": []
    },
    {
      "cell_type": "code",
      "source": [
        "#@title Launch Kobold AI (Go to new_ui link and enable Experimental UI in interface settings, then load model in 4bit.)\n",
        "#Enter KAI dir, launch shell script with remote parameter for CloudFlare links\n",
        "Tunnel = \"Cloudflare\" #@param [\"Localtunnel\",\"Cloudflare\"] {allow-input: true}\n",
        "if Tunnel == \"Localtunnel\":\n",
        "  !npm install -g localtunnel\n",
        "  !cd KoboldAI && ./play.sh --localtunnel --quiet\n",
        "else:\n",
        "  !cd KoboldAI && ./play.sh --remote --quiet"
      ],
      "metadata": {
        "id": "e2KO63T5FjlG",
        "cellView": "form"
      },
      "execution_count": null,
      "outputs": []
    },
    {
      "cell_type": "markdown",
      "source": [],
      "metadata": {
        "id": "EZeIuJZGwJP_"
      }
    }
  ]
}