{
  "nbformat": 4,
  "nbformat_minor": 0,
  "metadata": {
    "colab": {
      "provenance": [],
      "gpuType": "T4",
      "authorship_tag": "ABX9TyPODNQFF/8S4zekXqDzURkm",
      "include_colab_link": true
    },
    "kernelspec": {
      "name": "python3",
      "display_name": "Python 3"
    },
    "language_info": {
      "name": "python"
    },
    "accelerator": "GPU",
    "gpuClass": "standard"
  },
  "cells": [
    {
      "cell_type": "markdown",
      "metadata": {
        "id": "view-in-github",
        "colab_type": "text"
      },
      "source": [
        "<a href=\"https://colab.research.google.com/github/OtisAlejandro/LLMColabs/blob/main/Meth.ipynb\" target=\"_parent\"><img src=\"https://colab.research.google.com/assets/colab-badge.svg\" alt=\"Open In Colab\"/></a>"
      ]
    },
    {
      "cell_type": "code",
      "execution_count": null,
      "metadata": {
        "id": "YTcNC5nmcMPw"
      },
      "outputs": [],
      "source": [
        "Model = \"Metharme 6B\"\n",
        "Version = \"Official\"\n",
        "Provider = \"Cloudflare\" #@param [\"Cloudflare\", \"Localtunnel\"]\n",
        "Revision = \"\"\n",
        "\n",
        "!nvidia-smi\n",
        "\n",
        "if Model == \"Metharme 6B\":\n",
        "  Model = \"Neko-Institute-of-Science/metharme-7b\"\n",
        "  path = \"\"\n",
        "  download = \"\"\n",
        "  Version = \"United\"\n",
        "\n",
        "if Provider == \"Localtunnel\":\n",
        "  tunnel = \"--localtunnel yes\"\n",
        "else:\n",
        "  tunnel = \"\"\n",
        "\n",
        "!wget https://koboldai.org/ckds -O - | bash /dev/stdin -m $Model -g $Version $Revision $tunnel"
      ]
    },
    {
      "cell_type": "markdown",
      "source": [
        " shit is good, \n",
        " Try meth kids\n"
      ],
      "metadata": {
        "id": "XbaeIoflc9co"
      }
    }
  ]
}